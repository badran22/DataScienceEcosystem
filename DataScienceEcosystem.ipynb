{
 "cells": [
  {
   "cell_type": "markdown",
   "id": "74a83bb7",
   "metadata": {},
   "source": [
    "<h1 style=\"color: blue;\"> Exercise 2 - Create a markdown cell with the title of the notebook.</h1>"
   ]
  },
  {
   "cell_type": "markdown",
   "id": "d34678cc",
   "metadata": {},
   "source": [
    "# Data Science Tools and Ecosystem"
   ]
  },
  {
   "cell_type": "markdown",
   "id": "ac965de4",
   "metadata": {},
   "source": [
    "<h1 style=\"color: blue;\"> Exercise 3 - Create a markdown cell for an introduction.</h1>"
   ]
  },
  {
   "cell_type": "markdown",
   "id": "9a90dcab",
   "metadata": {},
   "source": [
    "In this notebook, Data Science Tools and Ecosystem are summarized."
   ]
  },
  {
   "cell_type": "markdown",
   "id": "d1f09980",
   "metadata": {},
   "source": [
    "<h1 style=\"color: blue;\"> Exercise 4 - Create a markdown cell to list data science languages.</h1>"
   ]
  },
  {
   "cell_type": "markdown",
   "id": "6df460e2",
   "metadata": {},
   "source": [
    "Some of the popular languages that Data Scientists use are:\n",
    "1. Python\n",
    "2. R\n",
    "3. SQL\n",
    "4. Julia\n",
    "5. Ruby"
   ]
  },
  {
   "cell_type": "markdown",
   "id": "8b7d7e01",
   "metadata": {},
   "source": [
    "<h1 style=\"color: blue;\"> Exercise 5 - Create a markdown cell to list data science libraries.</h1>"
   ]
  },
  {
   "cell_type": "markdown",
   "id": "fc51ed6a",
   "metadata": {},
   "source": [
    "Some of the commonly used libraries used by Data Scientists include:\n",
    "1. Pandas\n",
    "2. NumPy\n",
    "3. Scikit-learn\n",
    "4. TensorFlow\n",
    "5. Keras\n",
    "6. Matplotlib\n",
    "7. ggplot2"
   ]
  },
  {
   "cell_type": "markdown",
   "id": "6df9b9b7",
   "metadata": {},
   "source": [
    "<h1 style=\"color: blue;\"> Exercise 6 - Create a markdown cell with a table of Data Science tools.</h1>"
   ]
  },
  {
   "cell_type": "markdown",
   "id": "6eb8cef3",
   "metadata": {},
   "source": [
    "<table>"
   ]
  },
  {
   "cell_type": "markdown",
   "id": "c27ccfc3",
   "metadata": {},
   "source": [
    "<table> <tr><th>Data Science tools</th></tr><tr><td>Jupyter Notebook</td></tr><tr><td>RStudio</td></tr><tr><td>Apache Spark</td></tr></table>"
   ]
  },
  {
   "cell_type": "markdown",
   "id": "7eae8fa4",
   "metadata": {},
   "source": [
    "<h1 style=\"color: blue;\"> Exercise 7 - Create a markdown cell introducing arithmetic expression examples.</h1>"
   ]
  },
  {
   "cell_type": "markdown",
   "id": "0ef7286d",
   "metadata": {},
   "source": [
    "Below are some examples of arithmetic expressions in Python:"
   ]
  },
  {
   "cell_type": "markdown",
   "id": "c139606a",
   "metadata": {},
   "source": [
    "<h1 style=\"color: blue;\"> Exercise 8 - Create a code cell to multiply and add numbers.</h1>"
   ]
  },
  {
   "cell_type": "markdown",
   "id": "4c79f6f0",
   "metadata": {},
   "source": [
    "<h3>Below are a few examples of evaluating arithmetic expressions in Python.</h3>"
   ]
  },
  {
   "cell_type": "code",
   "execution_count": 10,
   "id": "23370cca",
   "metadata": {},
   "outputs": [
    {
     "name": "stdout",
     "output_type": "stream",
     "text": [
      "This a simple arithmetic expression to mutiply then add integers 17.00.\n"
     ]
    }
   ],
   "source": [
    "# This a simple arithmetic expression to mutiply then add integers\n",
    "result = 5 + (4 * 3)\n",
    "print(f\"This a simple arithmetic expression to mutiply then add integers {result:.2f}.\")"
   ]
  },
  {
   "cell_type": "markdown",
   "id": "372382bb",
   "metadata": {},
   "source": [
    "<h1 style=\"color: blue;\"> Exercise 9 - Create a code cell to convert minutes to hours.</h1>"
   ]
  },
  {
   "cell_type": "code",
   "execution_count": 8,
   "id": "7468af25",
   "metadata": {},
   "outputs": [
    {
     "name": "stdout",
     "output_type": "stream",
     "text": [
      "200 minutes is equal to 3.33 hours.\n"
     ]
    }
   ],
   "source": [
    "# This will convert 200 minutes to hours by diving by 60\n",
    "minutes = 200\n",
    "hours = minutes / 60\n",
    "print(f\"{minutes} minutes is equal to {hours:.2f} hours.\")"
   ]
  },
  {
   "cell_type": "markdown",
   "id": "81780860",
   "metadata": {},
   "source": [
    "<h1 style=\"color: blue;\"> Exercise 10 - Insert a markdown cell to list Objectives.</h1>"
   ]
  },
  {
   "cell_type": "markdown",
   "id": "9d855658",
   "metadata": {},
   "source": [
    "**Objectives:**\n",
    "- List popular languages for Data Science\n",
    "- Explore key libraries used in Data Science\n",
    "- Understand essential tools for data analysis\n",
    "- Perform basic arithmetic operations\n",
    "- Convert time units in programming\n"
   ]
  },
  {
   "cell_type": "markdown",
   "id": "19f83a1f",
   "metadata": {},
   "source": [
    "<h1 style=\"color: blue;\"> Exercise 11 - Create a markdown cell to indicate the Author's name.</h1>"
   ]
  },
  {
   "cell_type": "markdown",
   "id": "cdb9e858",
   "metadata": {},
   "source": [
    "## Author\n",
    "Yosif"
   ]
  },
  {
   "cell_type": "markdown",
   "id": "73020d43",
   "metadata": {},
   "source": [
    "<h1 style=\"color: blue;\">Exercise 12 - Share your notebook through GitHub.</h1>"
   ]
  },
  {
   "cell_type": "code",
   "execution_count": null,
   "id": "9a12d571",
   "metadata": {},
   "outputs": [],
   "source": []
  }
 ],
 "metadata": {
  "kernelspec": {
   "display_name": "Python 3 (ipykernel)",
   "language": "python",
   "name": "python3"
  },
  "language_info": {
   "codemirror_mode": {
    "name": "ipython",
    "version": 3
   },
   "file_extension": ".py",
   "mimetype": "text/x-python",
   "name": "python",
   "nbconvert_exporter": "python",
   "pygments_lexer": "ipython3",
   "version": "3.9.13"
  }
 },
 "nbformat": 4,
 "nbformat_minor": 5
}
